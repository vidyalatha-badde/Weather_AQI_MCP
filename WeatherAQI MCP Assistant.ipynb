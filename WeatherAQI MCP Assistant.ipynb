{
 "cells": [
  {
   "cell_type": "markdown",
   "id": "b982a1bd-9c6b-4d4e-902d-3d9417ea062f",
   "metadata": {},
   "source": [
    "## WeatherAQI MCP Assistant\n",
    "**`WeatherAQI MCP Assistant`** is an interactive, asynchronous assistant that brings together real-time weather and AQI (Air Quality Index) data using powerful MCP (Model Context Protocol) servers. It seamlessly connects to dedicated weather and AQI tools on **Intel® Core™ Ultra Processors** then uses [**Qwen/Qwen2.5-3B-Instruct**](https://huggingface.co/Qwen/Qwen2.5-3B-Instruct) to analyze the data and generate clear, actionable health and safety recommendations. The Qwen2.5-3B-Instruct model is loaded using the [**PyTorch XPU backend**](https://docs.pytorch.org/docs/stable/notes/get_start_xpu.html) to leverage Intel hardware acceleration.This assistant helps users stay informed about environmental conditions and make better decisions for their well-being. Designed with async operations and SSE connections, it’s perfect for modern, event-driven pipelines"
   ]
  },
  {
   "cell_type": "markdown",
   "id": "e1b97387-3913-469c-bd7e-07b68dabd16e",
   "metadata": {},
   "source": [
    "## Workflow\n",
    "This diagram illustrates how the WeatherAQI MCP Assistant operates end-to-end within an AI PC environment, combining MCP Compliant Servers, a client, and external APIs."
   ]
  },
  {
   "cell_type": "markdown",
   "id": "5be5f266-cc36-4312-9018-292204b5cb4f",
   "metadata": {},
   "source": [
    "![Workflow](Workflow.png)"
   ]
  },
  {
   "cell_type": "markdown",
   "id": "82b37925-0a2c-4755-bbcb-9c10d11959c6",
   "metadata": {},
   "source": [
    "## Run all MCP servers locally:\n",
    "\n",
    "This sample has 3 MCP servers (runs on 3 different ports):\\\n",
    "     - **Weather** (port - 8000)\\\n",
    "     - **AQI (Air Quality Index)** (port - 8001) \n",
    "     \\\n",
    "     - **LLM Inference** (port - 8002)\n",
    "  \n",
    "To run them all, open **3 separate terminals**\n",
    "  \n",
    "**Terminal 1**: Start the Weather MCP server - `uv run weather-server.py`\\\n",
    "**Terminal 2**: Start the AQI MCP server - `uv run aqi_server.py`\\\n",
    "**Terminal 3**: Start the LLM Inferencing MCP server - `uv run llm_inference_server.py`"
   ]
  },
  {
   "cell_type": "markdown",
   "id": "ccfee841-8305-4389-9e56-e789b7fe9dd8",
   "metadata": {},
   "source": [
    "## Import necessary packages\n",
    "Import all the necessary packages and libraries. Apply nest_asyncio to allow nested event loops"
   ]
  },
  {
   "cell_type": "code",
   "execution_count": 1,
   "id": "c027bf77-02d7-4763-ac6f-2a7880d9e5c9",
   "metadata": {},
   "outputs": [],
   "source": [
    "import nest_asyncio\n",
    "nest_asyncio.apply()\n",
    "\n",
    "import asyncio\n",
    "import os\n",
    "from fastmcp import Client"
   ]
  },
  {
   "cell_type": "markdown",
   "id": "5984ceb5-8e60-42d6-b127-aae481aa5451",
   "metadata": {},
   "source": [
    "## Define the MCP Client class AQI_Weather_Advisor\n",
    "This class contains definitions of async methods i.e. `get_weather()`, `get_aqi_report()` and `get_health_recommendations()` that calls corresponding FastMCP tools and return results asynchronously. The `extract_text` helper normalizes different output formats."
   ]
  },
  {
   "cell_type": "code",
   "execution_count": 2,
   "id": "6966e159-d05b-4ca0-ae5f-62a56da12338",
   "metadata": {},
   "outputs": [],
   "source": [
    "class AQI_Weather_Advisor:\n",
    "    \"\"\"\n",
    "    AQI_Weather_Advisor is responsible for interacting with Weather, AQI, and LLM MCP servers.\n",
    "\n",
    "    It provides methods to:\n",
    "    - Fetch weather information for a given location.\n",
    "    - Retrieve AQI (Air Quality Index) reports.\n",
    "    - Generate health and safety recommendations based on weather and AQI data.\n",
    "    \"\"\"\n",
    "\n",
    "    def __init__(self, weather_url: str, aqi_server_url: str, llm_server_url: str):\n",
    "        \"\"\"\n",
    "        Initialize the AQI_Weather_Advisor with URLs for Weather, AQI, and LLM MCP servers.\n",
    "\n",
    "        Args:\n",
    "            weather_url (str): URL of the Weather MCP server.\n",
    "            aqi_server_url (str): URL of the AQI MCP server.\n",
    "            llm_server_url (str): URL of the LLM MCP server.\n",
    "        \"\"\"\n",
    "        \n",
    "        self.weather_url = weather_url\n",
    "        self.aqi_server_url = aqi_server_url\n",
    "        self.llm_server_url = llm_server_url\n",
    "\n",
    "    async def get_weather(self, location: str) -> str:\n",
    "        \"\"\"\n",
    "        Retrieve weather data for a given location from the Weather MCP server.\n",
    "\n",
    "        Args:\n",
    "            location (str): Name of the location to get weather information for.\n",
    "\n",
    "        Returns:\n",
    "            str: Raw weather data response.\n",
    "        \"\"\"\n",
    "        async with Client(f\"{self.weather_url}/sse\") as client:\n",
    "            return await client.call_tool(\"get_weather\", {\"location\": location})\n",
    "\n",
    "    async def get_aqi_report(self, location: str) -> str:\n",
    "        \"\"\"\n",
    "        Retrieve AQI (Air Quality Index) report for a given location from the AQI MCP server.\n",
    "\n",
    "        Args:\n",
    "            location (str): Name of the location to get AQI report for.\n",
    "\n",
    "        Returns:\n",
    "            str: AQI report as plain text.\n",
    "        \"\"\"\n",
    "        async with Client(f\"{self.aqi_server_url}/sse\") as client:\n",
    "            result = await client.call_tool(\"get_aqi\", {\"location\": location})\n",
    "            return self._extract_text(result)\n",
    "\n",
    "    async def get_health_recommendations(self, weather_report: str, aqi_report: str) -> str:\n",
    "        \"\"\"\n",
    "        Get health and safety recommendations by calling the LLM MCP server.\n",
    "\n",
    "        Args:\n",
    "            weather_report (str): Weather report text.\n",
    "            aqi_report (str): AQI report text.\n",
    "\n",
    "        Returns:\n",
    "            str: Health and safety recommendations.\n",
    "        \"\"\"\n",
    "        async with Client(f\"{self.llm_server_url}/sse\") as client:\n",
    "            result = await client.call_tool(\"safety_guidelines\", {\"weather_report\": weather_report , \"aqi_report\": aqi_report})\n",
    "            return self._extract_text(result)\n",
    "\n",
    "    def _extract_text(self, result) -> str:\n",
    "        \"\"\"\n",
    "        Helper method to extract plain text from MCP results.\n",
    "\n",
    "        Args:\n",
    "            result (Any): The result returned from an MCP tool call.\n",
    "                          Can be a list of blocks or a single object.\n",
    "\n",
    "        Returns:\n",
    "            str: Extracted text or string representation.\n",
    "        \"\"\"\n",
    "        if isinstance(result, list):\n",
    "            return \"\\n\".join(block.text for block in result if hasattr(block, \"text\"))\n",
    "        elif hasattr(result, \"text\"):\n",
    "            return result.text\n",
    "        return str(result)\n"
   ]
  },
  {
   "cell_type": "markdown",
   "id": "02571682-15f2-4408-aeed-0e5cbbe010f3",
   "metadata": {},
   "source": [
    "## Create an instance of AQI_Weather_Advisor & Run the Interactive Loop\n",
    "Instantiates the AQI_Weather_Advisor with the local MCP server URLs and continuously prompts the user for a location. Exits gracefully when the user types exit.\n",
    "- Calls the weather tool and displays the weather report.\n",
    "- Calls the AQI tool and shows the AQI details.\n",
    "- Passes the weather and AQI reports to the LLM tool for health guidelines.\n",
    "- Prints AI-generated health advice.\n",
    "- Catches and prints any exceptions.\n"
   ]
  },
  {
   "cell_type": "code",
   "execution_count": 3,
   "id": "ef070a2f-c429-4e83-b587-cdce5da4b757",
   "metadata": {},
   "outputs": [],
   "source": [
    "async def main():\n",
    "    \"\"\"\n",
    "    Main entry point of the MCP based AQI_Weather_Health Assistant.\n",
    "\n",
    "    Continuously prompts the user for a location, fetches weather and AQI data,\n",
    "    and provides health and safety recommendations until the user chooses to exit.\n",
    "    \"\"\"\n",
    "    agent = AQI_Weather_Advisor(\"http://localhost:8000\" , \"http://localhost:8001\", \"http://localhost:8002\")\n",
    "\n",
    "    while True:\n",
    "        location = input(\"\\n Enter location to check for Weather and AQI reports (or 'exit' to quit): \").strip()\n",
    "        if location.lower() == \"exit\":\n",
    "            print(\" Exiting Weather & AQI Assistant.\")\n",
    "            break\n",
    "\n",
    "        print(\"\\n Fetching Weather & AQI data...\")\n",
    "        try:\n",
    "                   \n",
    "            weather_raw = await agent.get_weather(location)\n",
    "            weather_report = weather_raw[0].text if isinstance(weather_raw, list) else str(weather_raw)\n",
    "            print(f\"\\n Weather Report:\\n {weather_report}\")\n",
    "            \n",
    "            aqi_report = await agent.get_aqi_report(location)\n",
    "            print(f\"\\n Air Quality Index Report for '{location}':\\n{aqi_report}\")\n",
    "\n",
    "            print(\"\\n Getting health precautions...\")\n",
    "            recommendations = await agent.get_health_recommendations(weather_report, aqi_report)\n",
    "            print(\"\\n Health & Safety Advice:\\n\", recommendations)\n",
    "        except Exception as e:\n",
    "            print(\" An error occurred:\", str(e))"
   ]
  },
  {
   "cell_type": "markdown",
   "id": "5d4e1055-db29-47d5-a336-c12a2a6d5d50",
   "metadata": {},
   "source": [
    "## Run the MCP-based-AQI-Weather Assistant Application\n",
    "\n",
    "Runs the main coroutine to execute the AQI-Weather Assistant’s main user interaction loop asynchronously and waits until it finishes."
   ]
  },
  {
   "cell_type": "code",
   "execution_count": 4,
   "id": "2a0bc696-e53c-489f-9a98-6f2d94ff0886",
   "metadata": {},
   "outputs": [
    {
     "name": "stdin",
     "output_type": "stream",
     "text": [
      "\n",
      " Enter location to check for Weather and AQI reports (or 'exit' to quit):  Hyderabad\n"
     ]
    },
    {
     "name": "stdout",
     "output_type": "stream",
     "text": [
      "\n",
      "🌫️ Fetching Weather & AQI data...\n",
      "\n",
      " Weather Report:\n",
      " \n",
      "        - Location: Hyderabad, India\n",
      "        - Coordinates: 17.38405, 78.45636\n",
      "        - Temperature: 28.5°C\n",
      "        - Wind Speed: 8.5 km/h\n",
      "        \n",
      "\n",
      " Air Quality Index Report for 'Hyderabad':\n",
      "\n",
      "  - Location: Hyderabad, India\n",
      "  - Coordinates: 17.38405, 78.45636\n",
      "  - AQI Level: 1 (Good)\n",
      "\n",
      "Pollutants (μg/m3):\n",
      "- CO: 98.96\n",
      "- NO: 0.13\n",
      "- NO2: 4.91\n",
      "- O3: 38.53\n",
      "- SO2: 6.12\n",
      "- PM2.5: 1.21\n",
      "- PM10: 2.02\n",
      "- NH3: 3.83\n",
      "\n",
      "\n",
      " Getting health precautions...\n",
      "\n",
      " Health & Safety Advice:\n",
      " You are a health assistant. Given this weather and air quality:\n",
      "\n",
      "Weather Report:\n",
      "\n",
      "        - Location: Hyderabad, India\n",
      "        - Coordinates: 17.38405, 78.45636\n",
      "        - Temperature: 28.5°C\n",
      "        - Wind Speed: 8.5 km/h\n",
      "        \n",
      "\n",
      "AQI Report:\n",
      "\n",
      "  - Location: Hyderabad, India\n",
      "  - Coordinates: 17.38405, 78.45636\n",
      "  - AQI Level: 1 (Good)\n",
      "\n",
      "Pollutants (μg/m3):\n",
      "- CO: 98.96\n",
      "- NO: 0.13\n",
      "- NO2: 4.91\n",
      "- O3: 38.53\n",
      "- SO2: 6.12\n",
      "- PM2.5: 1.21\n",
      "- PM10: 2.02\n",
      "- NH3: 3.83\n",
      "\n",
      "\n",
      "Provide:\n",
      "1. Overall outdoor safety level. Can I go for parasailing based on the weather report?\n",
      "2. Health risks.\n",
      "3. Precautions.\n",
      "4. Special advice for sensitive groups.\n",
      "5. What can be done to improve air quality in Hyderabad? Based on the given information, here is a comprehensive assessment:\n",
      "\n",
      "### 1. Overall Outdoor Safety Level\n",
      "**Safety Level:** Good\n",
      "\n",
      "**Explanation:** The Air Quality Index (AQI) level is 1, which indicates good air quality. All pollutants are well within safe limits.\n",
      "\n",
      "### 2. Health Risks\n",
      "**Health Risks:** Minimal\n",
      "\n",
      "**Explanation:** The levels of all pollutants are well below the threshold for causing health concerns. However, individuals with pre-existing respiratory or cardiovascular conditions may still be affected by poor air quality. \n",
      "\n",
      "### 3. Precautions\n",
      "**Precautions:** None\n",
      "\n",
      "**Explanation:** Since the air quality is good, there are no specific precautions needed. Enjoy your day outdoors!\n",
      "\n",
      "### 4. Special Advice for Sensitive Groups\n",
      "**Special Advice:** No special precautions required.\n",
      "\n",
      "**Explanation:** Given the good air quality, there is no need for extra caution for sensitive groups such as children, elderly, pregnant women, and those with pre-existing respiratory or cardiovascular conditions.\n",
      "\n",
      "### 5. What Can Be Done to Improve Air Quality in Hyderabad?\n",
      "**Improvement Suggestions:**\n",
      "1. **Promote Public Transport:** Encourage more people to use public transport to reduce vehicular emissions.\n",
      "2. **Industrial Emissions Control:** Implement stricter regulations on industrial emissions, particularly from power plants and factories.\n",
      "3. **Encourage Green Spaces:** Increase green cover through afforestation programs and urban greening initiatives.\n",
      "4. **Electric Vehicles:** Promote the adoption of electric vehicles and provide incentives for their usage.\n",
      "5. **Educate Public:** Raise awareness about the importance of clean air and encourage individuals to adopt eco-friendly practices.\n",
      "6. **Regular Monitoring:** Continue regular monitoring of air quality to identify trends and areas needing improvement.\n",
      "7. **Encourage Renewable Energy:** Support the growth of renewable energy sources to reduce reliance on fossil fuels.\n",
      "8. **Implement Emission Standards:** Update and enforce emission standards for vehicles and industrial facilities.\n",
      "9. **Promote Sustainable Agriculture:** Reduce the use of pesticides and promote sustainable farming practices.\n",
      "10. **Encourage Waste Management:** Improve waste management systems to reduce open burning and other pollution sources.\n",
      "\n",
      "By implementing these measures, the air quality in Hyderabad can gradually improve over time. \n",
      "\n",
      "---\n",
      "\n",
      "In summary, you can confidently enjoy outdoor activities like parasailing today, but it's always a good idea to monitor local air quality reports and adjust your plans if necessary.\n"
     ]
    },
    {
     "name": "stdin",
     "output_type": "stream",
     "text": [
      "\n",
      " Enter location to check for Weather and AQI reports (or 'exit' to quit):  exit\n"
     ]
    },
    {
     "name": "stdout",
     "output_type": "stream",
     "text": [
      " Exiting Weather & AQI Assistant.\n"
     ]
    }
   ],
   "source": [
    "await main()"
   ]
  },
  {
   "cell_type": "code",
   "execution_count": null,
   "id": "92d33268-ad9b-4db3-9b02-52a6679277df",
   "metadata": {},
   "outputs": [],
   "source": []
  }
 ],
 "metadata": {
  "kernelspec": {
   "display_name": "Python 3 (ipykernel)",
   "language": "python",
   "name": "python3"
  },
  "language_info": {
   "codemirror_mode": {
    "name": "ipython",
    "version": 3
   },
   "file_extension": ".py",
   "mimetype": "text/x-python",
   "name": "python",
   "nbconvert_exporter": "python",
   "pygments_lexer": "ipython3",
   "version": "3.13.3"
  }
 },
 "nbformat": 4,
 "nbformat_minor": 5
}
